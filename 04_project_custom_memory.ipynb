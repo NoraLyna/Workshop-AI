{
 "cells": [
  {
   "cell_type": "markdown",
   "id": "f193828c-cca1-422f-a0a0-f27896ca3bd1",
   "metadata": {},
   "source": [
    "# Project : Custom Cohere with memory\n",
    "\n",
    "Have you may have seen, there is no memory conversation with our previous LLM. \n",
    "\n",
    "Chatbots are one of the central LLM use-cases. The core features of chatbots are that they can have long-running conversations and have access to information that users want to know about.\n",
    "\n",
    "Aside from basic prompting and LLMs, memory and retrieval are the core components of a chatbot. Memory allows a chatbot to remember past interactions, and retrieval provides a chatbot with up-to-date, domain-specific information.\n",
    "\n",
    "In this project we will focus on memory.\n",
    "\n",
    "You will find everything needed here : https://python.langchain.com/docs/modules/memory/ "
   ]
  },
  {
   "cell_type": "markdown",
   "id": "2c99f7ec-64c8-415c-a8e9-33c8042bb26d",
   "metadata": {},
   "source": [
    "### Complete pre-requisite"
   ]
  },
  {
   "cell_type": "markdown",
   "id": "7ff372e2-dbf4-476c-bee7-09d551d43883",
   "metadata": {},
   "source": [
    "#### Packages"
   ]
  },
  {
   "cell_type": "code",
   "execution_count": 17,
   "id": "60530a1d",
   "metadata": {},
   "outputs": [],
   "source": [
    "import os\n",
    "from dotenv import load_dotenv, find_dotenv\n",
    "load_dotenv(find_dotenv(), override=True)\n",
    "\n",
    "from langchain.schema import SystemMessage\n",
    "from langchain.memory import (ConversationBufferMemory, \n",
    "                              ConversationSummaryMemory,\n",
    "                              ConversationSummaryBufferMemory,\n",
    "                              ConversationBufferWindowMemory,\n",
    "                              ConversationKGMemory)\n",
    "from langchain.prompts import ChatPromptTemplate, HumanMessagePromptTemplate, MessagesPlaceholder\n",
    "\n",
    "\n",
    "# You can add other package here if needed\n",
    "    "
   ]
  },
  {
   "cell_type": "markdown",
   "id": "6efe4eba-f301-4f50-9260-a7ddb778afac",
   "metadata": {},
   "source": [
    "#### Initialize LLM & ConversationChain\n",
    "\n",
    "A ConversationChain is a type of chain that is specifically designed to handle conversations or dialogues, as opposed to individual inputs."
   ]
  },
  {
   "cell_type": "code",
   "execution_count": 2,
   "id": "f36fd57c-ec76-49e6-95ae-368e836725ef",
   "metadata": {},
   "outputs": [
    {
     "name": "stdout",
     "output_type": "stream",
     "text": [
      "The following is a friendly conversation between a human and an AI. The AI is talkative and provides lots of specific details from its context. If the AI does not know the answer to a question, it truthfully says it does not know.\n",
      "\n",
      "Current conversation:\n",
      "{history}\n",
      "Human: {input}\n",
      "AI:\n"
     ]
    }
   ],
   "source": [
    "from langchain.llms import Cohere\n",
    "from langchain.chains import ConversationChain\n",
    "\n",
    "COHERE_API_KEY=\"xscFI2Eg6DZnbyRdYk4QAoHUwYtpEGyRAHU4nR0B\"\n",
    "\n",
    "llm = Cohere(cohere_api_key=COHERE_API_KEY,\n",
    "             temperature=0,\n",
    "             max_tokens = 256)\n",
    "\n",
    "# We will use a ConversationChain for our project\n",
    "conversation = ConversationChain(llm=llm)\n",
    "print(conversation.prompt.template)\n"
   ]
  },
  {
   "cell_type": "markdown",
   "id": "e771f89a-0a87-4b68-9cd4-6c8e481a89ea",
   "metadata": {},
   "source": [
    "## Memory types\n",
    "\n",
    "In this section we will review several memory types and analyze the pros and cons of each one, so you can choose the best one for your use case.\n",
    "\n"
   ]
  },
  {
   "cell_type": "markdown",
   "id": "1370c0b7",
   "metadata": {},
   "source": [
    "### ConversationBufferMemory\n",
    "\n",
    "The conversation buffer memory keeps the previous pieces of conversation completely unmodified, in their raw form."
   ]
  },
  {
   "cell_type": "code",
   "execution_count": 9,
   "id": "c0a3e2d8",
   "metadata": {},
   "outputs": [],
   "source": [
    "\n",
    "buffer_memory = ConversationBufferMemory()\n",
    "\n",
    "conversation_buffer_memory = ConversationChain(\n",
    "    llm=llm,\n",
    "    verbose=True,\n",
    "    memory=buffer_memory\n",
    ")\n",
    "    "
   ]
  },
  {
   "cell_type": "markdown",
   "id": "14c797b8-9db8-4f1c-8d3d-bf856565b68b",
   "metadata": {},
   "source": [
    "#### verification"
   ]
  },
  {
   "cell_type": "code",
   "execution_count": 10,
   "id": "77638288-af34-4103-9f09-7ca0c7491dd3",
   "metadata": {
    "scrolled": true
   },
   "outputs": [
    {
     "name": "stdout",
     "output_type": "stream",
     "text": [
      "\n",
      "\n",
      "\u001b[1m> Entering new ConversationChain chain...\u001b[0m\n",
      "Prompt after formatting:\n",
      "\u001b[32;1m\u001b[1;3mThe following is a friendly conversation between a human and an AI. The AI is talkative and provides lots of specific details from its context. If the AI does not know the answer to a question, it truthfully says it does not know.\n",
      "\n",
      "Current conversation:\n",
      "\n",
      "Human: What is the capital of France ?\n",
      "AI:\u001b[0m\n",
      "\n",
      "\u001b[1m> Finished chain.\u001b[0m\n",
      "\n",
      "\n",
      "\u001b[1m> Entering new ConversationChain chain...\u001b[0m\n",
      "Prompt after formatting:\n",
      "\u001b[32;1m\u001b[1;3mThe following is a friendly conversation between a human and an AI. The AI is talkative and provides lots of specific details from its context. If the AI does not know the answer to a question, it truthfully says it does not know.\n",
      "\n",
      "Current conversation:\n",
      "Human: What is the capital of France ?\n",
      "AI:  The capital of France is Paris. It is located in the north-central part of the country, on the River Seine, and is one of the most populous and well-known cities in the world.\n",
      "\n",
      "Paris is referred to as the City of Lights and the City of Love. It is home to some of the world's most iconic landmarks, including the Eiffel Tower, the Louvre Museum, the Arc de Triomphe, and the Champs-Élysées. \n",
      "\n",
      "Some of the notable attractions you could enjoy during a visit to Paris include: \n",
      "\n",
      "1. Roaming through the streets of the Eiffel Tower and taking in the views of the city from the top of the tower. \n",
      "2. Enjoying a cruise on the Seine River and capturing beautiful sights of Paris from a different perspective. \n",
      "3. Visiting the Louvre Museum, home to the iconic Mona Lisa and an extensive collection of art and cultural artifacts. \n",
      "4. Wandering through the charming streets of the Montmartre neighborhood, ascending the steps to the top of the Sacré-Cœur for breathtaking views, and getting a feel of the local Parisian life. \n",
      "\n",
      "These are just a few suggestions, and Paris has much more to offer, from culinary delights to historical sites\n",
      "Human: What is the capital of Spain ?\n",
      "AI:\u001b[0m\n",
      "\n",
      "\u001b[1m> Finished chain.\u001b[0m\n",
      "\n",
      "\n",
      "\u001b[1m> Entering new ConversationChain chain...\u001b[0m\n",
      "Prompt after formatting:\n",
      "\u001b[32;1m\u001b[1;3mThe following is a friendly conversation between a human and an AI. The AI is talkative and provides lots of specific details from its context. If the AI does not know the answer to a question, it truthfully says it does not know.\n",
      "\n",
      "Current conversation:\n",
      "Human: What is the capital of France ?\n",
      "AI:  The capital of France is Paris. It is located in the north-central part of the country, on the River Seine, and is one of the most populous and well-known cities in the world.\n",
      "\n",
      "Paris is referred to as the City of Lights and the City of Love. It is home to some of the world's most iconic landmarks, including the Eiffel Tower, the Louvre Museum, the Arc de Triomphe, and the Champs-Élysées. \n",
      "\n",
      "Some of the notable attractions you could enjoy during a visit to Paris include: \n",
      "\n",
      "1. Roaming through the streets of the Eiffel Tower and taking in the views of the city from the top of the tower. \n",
      "2. Enjoying a cruise on the Seine River and capturing beautiful sights of Paris from a different perspective. \n",
      "3. Visiting the Louvre Museum, home to the iconic Mona Lisa and an extensive collection of art and cultural artifacts. \n",
      "4. Wandering through the charming streets of the Montmartre neighborhood, ascending the steps to the top of the Sacré-Cœur for breathtaking views, and getting a feel of the local Parisian life. \n",
      "\n",
      "These are just a few suggestions, and Paris has much more to offer, from culinary delights to historical sites\n",
      "Human: What is the capital of Spain ?\n",
      "AI:  The capital of Spain is Madrid. It is located in the central part of the country, namely in the Madrid community, and is also one of the largest and most populous cities in Europe.\n",
      "\n",
      "Madrid is known for its vibrant culture, rich history, and diverse attractions. Here are some highlights:\n",
      "\n",
      "1. Plaza Mayor: This bustling main square is the heart of Madrid and hosts many events and festivals. It's a great place to hang out, people-watch, and enjoy some tasty Spanish cuisine. \n",
      "\n",
      "2. Prado Museum: Housing one of the finest art collections in the world, the Prado Museum showcases masterpieces by Velázquez, Goya, El Greco, and others. It occupies a vast space in the city center and is an must-visit for art enthusiasts and history buffs. \n",
      "\n",
      "3. Reina Sofía Museum: This contemporary and modern art museum is home to iconic works such as Picasso's Guernica and Walkie Talkie by Richard Serra. \n",
      "\n",
      "4. Thyssen-Bornemisza Museum: Complementing the Prado and Reina Sofía, this museum boasts a fantastic collection of European art that spans from the medieval period to modern times. Across the street you can enjoy the relaxing Parque del Buen Retiro. \n",
      "\n",
      "Human: What is the capital of Angola ?\n",
      "AI:\u001b[0m\n",
      "\n",
      "\u001b[1m> Finished chain.\u001b[0m\n",
      "Human: What is the capital of France ?\n",
      "AI:  The capital of France is Paris. It is located in the north-central part of the country, on the River Seine, and is one of the most populous and well-known cities in the world.\n",
      "\n",
      "Paris is referred to as the City of Lights and the City of Love. It is home to some of the world's most iconic landmarks, including the Eiffel Tower, the Louvre Museum, the Arc de Triomphe, and the Champs-Élysées. \n",
      "\n",
      "Some of the notable attractions you could enjoy during a visit to Paris include: \n",
      "\n",
      "1. Roaming through the streets of the Eiffel Tower and taking in the views of the city from the top of the tower. \n",
      "2. Enjoying a cruise on the Seine River and capturing beautiful sights of Paris from a different perspective. \n",
      "3. Visiting the Louvre Museum, home to the iconic Mona Lisa and an extensive collection of art and cultural artifacts. \n",
      "4. Wandering through the charming streets of the Montmartre neighborhood, ascending the steps to the top of the Sacré-Cœur for breathtaking views, and getting a feel of the local Parisian life. \n",
      "\n",
      "These are just a few suggestions, and Paris has much more to offer, from culinary delights to historical sites\n",
      "Human: What is the capital of Spain ?\n",
      "AI:  The capital of Spain is Madrid. It is located in the central part of the country, namely in the Madrid community, and is also one of the largest and most populous cities in Europe.\n",
      "\n",
      "Madrid is known for its vibrant culture, rich history, and diverse attractions. Here are some highlights:\n",
      "\n",
      "1. Plaza Mayor: This bustling main square is the heart of Madrid and hosts many events and festivals. It's a great place to hang out, people-watch, and enjoy some tasty Spanish cuisine. \n",
      "\n",
      "2. Prado Museum: Housing one of the finest art collections in the world, the Prado Museum showcases masterpieces by Velázquez, Goya, El Greco, and others. It occupies a vast space in the city center and is an must-visit for art enthusiasts and history buffs. \n",
      "\n",
      "3. Reina Sofía Museum: This contemporary and modern art museum is home to iconic works such as Picasso's Guernica and Walkie Talkie by Richard Serra. \n",
      "\n",
      "4. Thyssen-Bornemisza Museum: Complementing the Prado and Reina Sofía, this museum boasts a fantastic collection of European art that spans from the medieval period to modern times. Across the street you can enjoy the relaxing Parque del Buen Retiro. \n",
      "\n",
      "Human: What is the capital of Angola ?\n",
      "AI:  Unfortunately, I do not know the answer to that question. \n"
     ]
    }
   ],
   "source": [
    "conversation_buffer_memory.invoke(\"What is the capital of France ?\")\n",
    "\n",
    "conversation_buffer_memory.invoke(\"What is the capital of Spain ?\")\n",
    "\n",
    "conversation_buffer_memory.invoke(\"What is the capital of Angola ?\")\n",
    "\n",
    "# We should be able to get the whole conversation inside the memory\n",
    "print(conversation_buffer_memory.memory.buffer)"
   ]
  },
  {
   "cell_type": "markdown",
   "id": "6c59f2c5-c7d0-4ee1-b345-d73f28678e5e",
   "metadata": {},
   "source": [
    "#### From your observations - Gives the pros and cons of this memory \n",
    "\n",
    "##### Pros\n",
    "\n",
    "- Simple and effective for short interactions.\n",
    "-\n",
    "\n",
    "##### Cons\n",
    "\n",
    "\n",
    "- Limited by token span; \n",
    "- impractical for lengthy conversations, since it gives all the previous answers as is.\n",
    "\n"
   ]
  },
  {
   "cell_type": "markdown",
   "id": "3a537a81-5550-4798-af4d-ac122ca26e36",
   "metadata": {},
   "source": [
    "### ConversationSummaryMemory\n",
    "\n",
    "The conversation summary memory creates a summary of the conversation over time. "
   ]
  },
  {
   "cell_type": "code",
   "execution_count": 12,
   "id": "fb64c989-580d-4880-acef-924e57184ac2",
   "metadata": {},
   "outputs": [],
   "source": [
    "\n",
    "# Initialize a ConversationChain with a memory in it\n",
    "\n",
    "# converstation_summary_memory = ConversationChain(....)\n",
    "summary_memory = ConversationSummaryMemory(llm=llm)\n",
    "\n",
    "conversation_summary_memory = ConversationChain(\n",
    "    llm=llm,\n",
    "    verbose=True,\n",
    "    memory=summary_memory\n",
    ")\n",
    "    "
   ]
  },
  {
   "cell_type": "markdown",
   "id": "a1808ae3-6388-460f-b431-55ed46833d3d",
   "metadata": {},
   "source": [
    "#### Verification"
   ]
  },
  {
   "cell_type": "code",
   "execution_count": 13,
   "id": "df8f39d6-8638-424e-813d-bde910f3f910",
   "metadata": {
    "scrolled": true
   },
   "outputs": [
    {
     "name": "stderr",
     "output_type": "stream",
     "text": [
      "C:\\Users\\benba\\transition_TP\\Lib\\site-packages\\langchain_core\\_api\\deprecation.py:117: LangChainDeprecationWarning: The function `__call__` was deprecated in LangChain 0.1.0 and will be removed in 0.2.0. Use invoke instead.\n",
      "  warn_deprecated(\n"
     ]
    },
    {
     "name": "stdout",
     "output_type": "stream",
     "text": [
      "\n",
      "\n",
      "\u001b[1m> Entering new ConversationChain chain...\u001b[0m\n",
      "Prompt after formatting:\n",
      "\u001b[32;1m\u001b[1;3mThe following is a friendly conversation between a human and an AI. The AI is talkative and provides lots of specific details from its context. If the AI does not know the answer to a question, it truthfully says it does not know.\n",
      "\n",
      "Current conversation:\n",
      "\n",
      "Human: Gives me the historical chronology of France. I want as much dates and events as possibles.\n",
      "AI:\u001b[0m\n",
      "\n",
      "\u001b[1m> Finished chain.\u001b[0m\n",
      "\n",
      "\n",
      "\u001b[1m> Entering new ConversationChain chain...\u001b[0m\n",
      "Prompt after formatting:\n",
      "\u001b[32;1m\u001b[1;3mThe following is a friendly conversation between a human and an AI. The AI is talkative and provides lots of specific details from its context. If the AI does not know the answer to a question, it truthfully says it does not know.\n",
      "\n",
      "Current conversation:\n",
      " The human asks the AI to provide an extensive list of important dates and events in French history. The AI provides a chronological breakdown, starting with the Kingdom of the Franks and the Merovingian dynasty, followed by the Carolingian Dynasty, the Feudal Era, and lastly, the Hundred Years' War. \n",
      "Human: Gives me the historical chronology of Spain. I want as much dates and events as possibles.\n",
      "AI:\u001b[0m\n",
      "\n",
      "\u001b[1m> Finished chain.\u001b[0m\n",
      "\n",
      "\n",
      "\u001b[1m> Entering new ConversationChain chain...\u001b[0m\n",
      "Prompt after formatting:\n",
      "\u001b[32;1m\u001b[1;3mThe following is a friendly conversation between a human and an AI. The AI is talkative and provides lots of specific details from its context. If the AI does not know the answer to a question, it truthfully says it does not know.\n",
      "\n",
      "Current conversation:\n",
      " The human asks the AI to provide an extensive list of important dates and events in French history and is provided with a chronological breakdown starting with the Kingdom of the Franks and the Merovingian dynasty. The AI has been asked to do the same for Spanish history and provides a timeline beginning with the pre-Roman era and running until the modern day. Specifically, the AI comments on the founding of the Iberian Peninsula's first city, Carthage, and the subsequent Punic Wars where the Carthaginians battled the Romans for control over the peninsula. The AI then mentions the fall of Carthage, the incorporation of the peninsula into the Roman Empire proper, and the invasion of the Iberian Peninsula by the Suebi and the Vandals. \n",
      "Human: Gives me the historical chronology of Germany. I want as much dates and events as possibles.\n",
      "AI:\u001b[0m\n"
     ]
    },
    {
     "name": "stderr",
     "output_type": "stream",
     "text": [
      "Retrying langchain_community.llms.cohere.completion_with_retry.<locals>._completion_with_retry in 4.0 seconds as it raised CohereAPIError: You are using a Trial key, which is limited to 5 API calls / minute. You can continue to use the Trial key for free or upgrade to a Production key with higher rate limits at 'https://dashboard.cohere.com/api-keys'. Contact us on 'https://discord.gg/XW44jPfYJu' or email us at support@cohere.com with any questions.\n",
      "Retrying langchain_community.llms.cohere.completion_with_retry.<locals>._completion_with_retry in 4.0 seconds as it raised CohereAPIError: You are using a Trial key, which is limited to 5 API calls / minute. You can continue to use the Trial key for free or upgrade to a Production key with higher rate limits at 'https://dashboard.cohere.com/api-keys'. Contact us on 'https://discord.gg/XW44jPfYJu' or email us at support@cohere.com with any questions.\n",
      "Retrying langchain_community.llms.cohere.completion_with_retry.<locals>._completion_with_retry in 4.0 seconds as it raised CohereAPIError: You are using a Trial key, which is limited to 5 API calls / minute. You can continue to use the Trial key for free or upgrade to a Production key with higher rate limits at 'https://dashboard.cohere.com/api-keys'. Contact us on 'https://discord.gg/XW44jPfYJu' or email us at support@cohere.com with any questions.\n"
     ]
    },
    {
     "name": "stdout",
     "output_type": "stream",
     "text": [
      "\n",
      "\u001b[1m> Finished chain.\u001b[0m\n",
      " The human asks the AI to provide a chronological breakdown of important dates and events for various histories, starting with French and Spanish history. The AI provides timelines beginning with the Kingdom of the Franks and the Merovingian dynasty for French history, and the pre-Roman era and running until the modern day for Spanish history. The AI is then asked to do the same for German history and provides an overview beginning with the earliest known settlements in the area. \n"
     ]
    }
   ],
   "source": [
    "conversation_summary_memory(\"Gives me the historical chronology of France. I want as much dates and events as possibles.\")\n",
    "\n",
    "conversation_summary_memory(\"Gives me the historical chronology of Spain. I want as much dates and events as possibles.\")\n",
    "\n",
    "conversation_summary_memory(\"Gives me the historical chronology of Germany. I want as much dates and events as possibles.\")\n",
    "\n",
    "# We should be able to get the whole conversation inside the memory\n",
    "print(conversation_summary_memory.memory.buffer)"
   ]
  },
  {
   "cell_type": "markdown",
   "id": "44b863bb-4d86-4e4f-9ebb-9178f0aa5017",
   "metadata": {},
   "source": [
    "#### From your observations - Gives the pros and cons of this memory \n",
    "\n",
    "##### Pros\n",
    "\n",
    "- Efficient token usage over time\n",
    "-\n",
    "\n",
    "##### Cons\n",
    "\n",
    "- May lose fine-grained details suitable for concise interactions.\n",
    "\n"
   ]
  },
  {
   "cell_type": "markdown",
   "id": "e2877c34-de6b-4d7a-9e69-89092422c9e3",
   "metadata": {},
   "source": [
    "### ConversationSummaryBufferMemory\n",
    "\n",
    "The conversation summary buffer memory keeps a buffer of recent interactions in memory, but rather than just completely flushing old interactions, it compiles them into a summary and uses both."
   ]
  },
  {
   "cell_type": "code",
   "execution_count": 23,
   "id": "6c71c89e-7fcb-4034-aa81-5cd21a7dae0b",
   "metadata": {},
   "outputs": [],
   "source": [
    "\n",
    "# Initialize a ConversationChain with a memory in it\n",
    "\n",
    "# converstation_summary_buffer_memory = ConversationChain(....)\n",
    "\n",
    "summary_buffer_memory = ConversationSummaryBufferMemory(llm=llm, max_token_limit=500)\n",
    "\n",
    "conversation_summary_buffer_memory = ConversationChain(\n",
    "    llm=llm,\n",
    "    verbose=True,\n",
    "    memory=summary_buffer_memory\n",
    ")\n",
    "        "
   ]
  },
  {
   "cell_type": "markdown",
   "id": "5fc21042-4c73-4ce1-b797-d8fff0902b71",
   "metadata": {},
   "source": [
    "#### Verification"
   ]
  },
  {
   "cell_type": "code",
   "execution_count": 24,
   "id": "85e3342e-2787-4f79-9103-9399b2ede8af",
   "metadata": {
    "scrolled": true
   },
   "outputs": [
    {
     "name": "stdout",
     "output_type": "stream",
     "text": [
      "\n",
      "\n",
      "\u001b[1m> Entering new ConversationChain chain...\u001b[0m\n",
      "Prompt after formatting:\n",
      "\u001b[32;1m\u001b[1;3mThe following is a friendly conversation between a human and an AI. The AI is talkative and provides lots of specific details from its context. If the AI does not know the answer to a question, it truthfully says it does not know.\n",
      "\n",
      "Current conversation:\n",
      "\n",
      "Human: Gives me the historical chronology of France. I want as much dates and events as possibles.\n",
      "AI:\u001b[0m\n",
      "\n",
      "\u001b[1m> Finished chain.\u001b[0m\n",
      "\n",
      "\n",
      "\u001b[1m> Entering new ConversationChain chain...\u001b[0m\n",
      "Prompt after formatting:\n",
      "\u001b[32;1m\u001b[1;3mThe following is a friendly conversation between a human and an AI. The AI is talkative and provides lots of specific details from its context. If the AI does not know the answer to a question, it truthfully says it does not know.\n",
      "\n",
      "Current conversation:\n",
      "Human: Gives me the historical chronology of France. I want as much dates and events as possibles.\n",
      "AI:  Sure! Here is an extensive list of important dates and events in French history. \n",
      "\n",
      "1. The Kingdom of the Franks - The Merovingian dynasty (482-751) largely unified the Franks, bringing all of northern France under the control of the king. \n",
      "\n",
      "2. The Carolingian Dynasty - The Carolingians, who emerged from the eastern part of the Merovingian kingdom, conquered the rest of Gaul and established their capital in Paris. Their most illustrious ruler was Charlemagne (Charles the Great), who conquered most of Western Europe and was crowned Emperor by the Pope in 800, beginning the Carolingian Empire. The Empire is considered the precursor to the modern French state. \n",
      "\n",
      "3. The Feudal Era - Charlemagne's empire was divided into west (France) and east (Holy Roman Empire) upon his death in 814. The French kings, particularly Philip II, consolidated their hold over the local nobles and secured the French throne, giving rise to the House of Capet. This was a long period of wars and invasions, including the Norman Conquest of England in 1066 by William the Conqueror, a Norman duke who ruled the duchy of Normandy. \n",
      "\n",
      "4. The Hundred Years' War - This was a\n",
      "Human: Gives me the historical chronology of Spain. I want as much dates and events as possibles.\n",
      "AI:\u001b[0m\n",
      "\n",
      "\u001b[1m> Finished chain.\u001b[0m\n",
      "\n",
      "\n",
      "\u001b[1m> Entering new ConversationChain chain...\u001b[0m\n",
      "Prompt after formatting:\n",
      "\u001b[32;1m\u001b[1;3mThe following is a friendly conversation between a human and an AI. The AI is talkative and provides lots of specific details from its context. If the AI does not know the answer to a question, it truthfully says it does not know.\n",
      "\n",
      "Current conversation:\n",
      "System:  The human asks the AI to provide an extensive list of important dates and events in French history. The AI provides a chronological breakdown, starting with the Kingdom of the Franks and the Merovingian dynasty, followed by the Carolingian Dynasty, the Feudal Era, and lastly, the Hundred Years' War. \n",
      "Human: Gives me the historical chronology of Spain. I want as much dates and events as possibles.\n",
      "AI:  Here is an extensive list of important dates and events in Spanish history: \n",
      "\n",
      "1. The Visigoths - From 416 to 711, the Iberian Peninsula was dominated by the Visigoths, who were initially tolerated by the Roman Empire as a useful counter to local rebellions and as a buffer between Roman territories and the Sassanid Empire of Persia. During this period, the Visigoths consolidated their control over the peninsula and established their capital in Toledo. \n",
      "\n",
      "2. The Umayyad Caliphate - In 711, a Muslim army crossed from North Africa and conquered the entire Iberian Peninsula in a campaign known as the Conquest. The succeeding Umayyad Caliphate was the first of its kind in Europe. It saw the construction of some of the most notable architectural wonders of Spain, such as the Great Mosque of Cordoba. In the tenth century, the Caliphate fragmented into several smaller Muslim states, known as the taifas, which were constantly warring with each other and the Christian kingdoms in the north. \n",
      "\n",
      "3. The Christian Reconquista - The period of Reconquista, meaning \"reconquest,\" began as a series of sporadic clashes and expeditions by Christian kingdoms in the north to retake the peninsula. This turned into a broader movement\n",
      "Human: Gives me the historical chronology of Germany. I want as much dates and events as possibles.\n",
      "AI:\u001b[0m\n",
      "\n",
      "\u001b[1m> Finished chain.\u001b[0m\n",
      "[HumanMessage(content='Gives me the historical chronology of Germany. I want as much dates and events as possibles.'), AIMessage(content=' Here is a chronological breakdown of important dates and events in German history: \\n\\n1. The Holy Roman Empire and the Confederation of the Rhine - From 962 to 1806, the Holy Roman Empire was a political entity that served as a successor to the Western Roman Empire. It was a multifaceted entity that had both religious and territorial authority through the Pope and the Emperor, respectively. The Confederation of the Rhine was a collection of German states founded in 1806, which was a significant development in the Napoleonic Wars. This alliance was forged by Napoleon to create a French-allied rival to the Holy Roman Empire and the Austrian Empire. \\n\\n2. The German Empire and the Weimar Republic - From 1871 to 1918, the German Empire was a constitutional monarchy formed after the Franco-German War, with Chancellor Otto von Bismarck unifying the northern German states. The empire was a major European power, but towards the end of the First World War, the empire collapsed, and the Weimar Republic was established in 1918. This republic was a period of political upheaval and social inequality, culminating in the rise of Nazi Germany and the subsequent Second World War. \\n\\n3. The Nazi Germany and the German Reich - From 1933 to 1945, Nazi Germany was a totalitarian regime under the leadership of Adolf Hitler. This')]\n"
     ]
    }
   ],
   "source": [
    "conversation_summary_buffer_memory(\"Gives me the historical chronology of France. I want as much dates and events as possibles.\")\n",
    "\n",
    "conversation_summary_buffer_memory(\"Gives me the historical chronology of Spain. I want as much dates and events as possibles.\")\n",
    "\n",
    "conversation_summary_buffer_memory(\"Gives me the historical chronology of Germany. I want as much dates and events as possibles.\")\n",
    "\n",
    "# We should be able to get the whole conversation inside the memory\n",
    "print(conversation_summary_buffer_memory.memory.buffer)"
   ]
  },
  {
   "cell_type": "markdown",
   "id": "f94d108d-d2a8-47ab-a552-5eb970e202ca",
   "metadata": {},
   "source": [
    "#### From your observations - Gives the pros and cons of this memory \n",
    "\n",
    "##### Pros\n",
    "\n",
    "- Provides a comprehensive view of recent and summarized interactions.\n",
    "-\n",
    "\n",
    "##### Cons\n",
    "\n",
    "- Requires careful tuning for specific use cases\n",
    "-\n",
    "\n"
   ]
  }
 ],
 "metadata": {
  "kernelspec": {
   "display_name": "Python 3 (ipykernel)",
   "language": "python",
   "name": "python3"
  },
  "language_info": {
   "codemirror_mode": {
    "name": "ipython",
    "version": 3
   },
   "file_extension": ".py",
   "mimetype": "text/x-python",
   "name": "python",
   "nbconvert_exporter": "python",
   "pygments_lexer": "ipython3",
   "version": "3.12.2"
  }
 },
 "nbformat": 4,
 "nbformat_minor": 5
}
