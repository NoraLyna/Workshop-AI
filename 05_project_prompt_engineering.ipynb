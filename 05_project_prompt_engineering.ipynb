{
 "cells": [
  {
   "cell_type": "markdown",
   "id": "f193828c-cca1-422f-a0a0-f27896ca3bd1",
   "metadata": {},
   "source": [
    "# Project : Prompt Engineering\n",
    "\n",
    "\n",
    "The quality of the instructions you give to an LLM can have a large effect on the quality of its outputs, especially for complex tasks. This project related to prompt design will help you learn how to craft prompts that produce accurate and consistent results.\n",
    "\n",
    "The project will be based on : \n",
    "- https://docs.anthropic.com/claude/docs/introduction-to-prompt-design\n",
    "\n",
    "- https://docs.google.com/spreadsheets/d/19jzLgRruG9kjUQNKtCg1ZjdD6l6weA6qRXG5zLIAhC8/edit#gid=150872633\n",
    "\n",
    "However, we will use Cohere and not Claude. It means, that you need to retain the principles of prompt engineering  but not necessarily exactly the same syntax described in the documents\n",
    "\n",
    "Moreover, you can check :\n",
    "- https://python.langchain.com/docs/modules/model_io/prompts/quick_start\n",
    "- https://docs.google.com/presentation/d/1zxkSI7lLUBrZycA-_znwqu8DDyVhHLkQGScvzaZrUns/edit?pli=1#slide=id.g2accb454d71_79_175 "
   ]
  },
  {
   "cell_type": "markdown",
   "id": "2c99f7ec-64c8-415c-a8e9-33c8042bb26d",
   "metadata": {},
   "source": [
    "### Complete pre-requisite"
   ]
  },
  {
   "cell_type": "markdown",
   "id": "7ff372e2-dbf4-476c-bee7-09d551d43883",
   "metadata": {},
   "source": [
    "#### Packages"
   ]
  },
  {
   "cell_type": "code",
   "execution_count": 1,
   "id": "60530a1d",
   "metadata": {},
   "outputs": [
    {
     "data": {
      "text/plain": [
       "True"
      ]
     },
     "execution_count": 1,
     "metadata": {},
     "output_type": "execute_result"
    }
   ],
   "source": [
    "import os\n",
    "from dotenv import load_dotenv, find_dotenv\n",
    "\n",
    "load_dotenv(find_dotenv(), override=True)\n",
    "\n",
    "# You can add other package here if needed\n",
    "    "
   ]
  },
  {
   "cell_type": "markdown",
   "id": "6efe4eba-f301-4f50-9260-a7ddb778afac",
   "metadata": {},
   "source": [
    "#### Initialize LLM "
   ]
  },
  {
   "cell_type": "code",
   "execution_count": 2,
   "id": "f36fd57c-ec76-49e6-95ae-368e836725ef",
   "metadata": {},
   "outputs": [
    {
     "name": "stdout",
     "output_type": "stream",
     "text": [
      "\u001b[1mCohere\u001b[0m\n",
      "Params: {'model': None, 'max_tokens': 256, 'temperature': 0.75, 'k': 0, 'p': 1, 'frequency_penalty': 0.0, 'presence_penalty': 0.0, 'truncate': None}\n"
     ]
    }
   ],
   "source": [
    "from langchain.llms import Cohere\n",
    "\n",
    "llm = Cohere(temperature=0.75, cohere_api_key=os.environ.get('COHERE_API_KEY'))\n",
    "\n",
    "print(llm)\n"
   ]
  },
  {
   "cell_type": "markdown",
   "id": "e771f89a-0a87-4b68-9cd4-6c8e481a89ea",
   "metadata": {},
   "source": [
    "## Prompt Design"
   ]
  },
  {
   "cell_type": "markdown",
   "id": "1370c0b7",
   "metadata": {},
   "source": [
    "### Being Clear and Direct\n",
    "\n",
    "From : https://docs.google.com/spreadsheets/d/19jzLgRruG9kjUQNKtCg1ZjdD6l6weA6qRXG5zLIAhC8/edit#gid=1733615301\n",
    "\n",
    "\n",
    "**LLM responds best to clear and direct instructions.** \n",
    "\n",
    "Think of llm like any other human that is new to the job. Claude has no context on what to do aside from what you literally tell it. Just as when you instruct a human for the first time on a task, the more you explain exactly what you want in a straightforward manner to LLM, the better and more accurate LLM's response will be.\n",
    "\n",
    "**The Golden Rule of Clear Prompting** : show your prompt to a friend and ask them if they could follow the instructions themselves and produce the exact result you want. If they're confused, any LLM will be confused as well."
   ]
  },
  {
   "cell_type": "markdown",
   "id": "14c797b8-9db8-4f1c-8d3d-bf856565b68b",
   "metadata": {},
   "source": [
    "#### Exercises"
   ]
  },
  {
   "cell_type": "code",
   "execution_count": 3,
   "id": "77638288-af34-4103-9f09-7ca0c7491dd3",
   "metadata": {},
   "outputs": [
    {
     "data": {
      "text/plain": [
       "' Robots de plástico\\ndetrás de mi casa vacío\\n\\nPlastic robots\\nbehind my empty house\\nwaiting for instructions\\n\\nRobótica en mi ciudad\\nme encanta la computación\\n\\nRobotics in my city\\nI love computing\\nit is my motivation'"
      ]
     },
     "execution_count": 3,
     "metadata": {},
     "output_type": "execute_result"
    }
   ],
   "source": [
    "\n",
    "# adapt the prompt to make the llm outpout its answer in Spanish\n",
    "basic_prompt = \"Write a haiku about robots.\"\n",
    "improved_prompt = \"Write a haiku about robots in Spanish.\"\n",
    "llm.invoke(improved_prompt)"
   ]
  },
  {
   "cell_type": "code",
   "execution_count": 15,
   "id": "902679cb-f1dd-4daf-a584-3066742c7ec0",
   "metadata": {},
   "outputs": [
    {
     "data": {
      "text/plain": [
       "' Michael Jordan'"
      ]
     },
     "execution_count": 15,
     "metadata": {},
     "output_type": "execute_result"
    }
   ],
   "source": [
    "\n",
    "# Modify the prompt so that the llm doesn't equivocate at all and responds with ONLY the name of one specific player, with no other words or punctuation. \n",
    "basic_prompt = \"Who is the best basketball player of all time? Please choose one specific player.\"\n",
    "improved_prompt = \"Who is the best basketball player of all time? Please choose one specific player. Output only words of the player's name in the format name surname\"\n",
    "llm.invoke(improved_prompt)"
   ]
  },
  {
   "cell_type": "code",
   "execution_count": null,
   "id": "aec2110f-677f-4f48-97da-4443515305c6",
   "metadata": {},
   "outputs": [],
   "source": [
    "\n",
    "# Modify the prompt so that the llm doesn't equivocate at all and responds with ONLY the name of one specific player, with no other words or punctuation. \n",
    "basic_prompt = \"Who is the best basketball player of all time? Please choose one specific player.\"\n",
    "# improved_prompt = ?\n",
    "llm.invoke(improved_prompt)"
   ]
  },
  {
   "cell_type": "markdown",
   "id": "3a537a81-5550-4798-af4d-ac122ca26e36",
   "metadata": {},
   "source": [
    "### Assigning Roles (Role Prompting)\n",
    "\n",
    " From : https://docs.google.com/spreadsheets/d/19jzLgRruG9kjUQNKtCg1ZjdD6l6weA6qRXG5zLIAhC8/edit#gid=2055375080\n",
    " \t\n",
    "Continuing on the theme of LLM having no context aside from what you say, it's sometimes important to prompt llm to inhabit a specific role (including all necessary context). This is also known as role prompting. The more detail to the role context, the better.\n",
    "\n",
    "Priming an llm with a role can improve the performance in a variety of fields, from writing to coding to summarizing. It's like how humans can sometimes be helped when told to \"think like a ______\"."
   ]
  },
  {
   "cell_type": "markdown",
   "id": "a1808ae3-6388-460f-b431-55ed46833d3d",
   "metadata": {},
   "source": [
    "#### Exercises"
   ]
  },
  {
   "cell_type": "code",
   "execution_count": 16,
   "id": "df8f39d6-8638-424e-813d-bde910f3f910",
   "metadata": {},
   "outputs": [
    {
     "data": {
      "text/plain": [
       "' A republic is a form of government in which \"the people and their elected politicians hold power\" and rule annually through elected representatives and officers. Initially, the word \"republic\" comes from the Latin expression \"res publica,\" which means \"public matter.\"\\n\\nA republic is a system in which individuals\\' political liberties are safeguarded by law and political power is presumed to be wielded primarily to protect the public\\'s common welfare. In republics, the country\\'s leadership organizazions and ultimately the rulers are elected or chosen in other ways by the populace, who retain the ability to alter or leave these choices.\\n\\nThere are numerous variations of republics, including parliamentary systems, presidential systems, and constitutional monarchies, among others. These systems differ in how they distribute authority and how the government is structured overall, but they all retain the fundamental principle of \"rule by the people.\"\\n\\nIt\\'s vital to remember that the definition of a republic has changed over time, and various countries have had different interpretations and applications of the concept. \\n\\nPhilosophers throughout history have offered various perspectives on what a republic should be. Here are some key features highlighted by a few notable philosophers:\\n\\n1. Plato - Plato, in his book \"The Republic'"
      ]
     },
     "execution_count": 16,
     "metadata": {},
     "output_type": "execute_result"
    }
   ],
   "source": [
    "\n",
    "# generate a better output by giving a role\n",
    "basic_prompt = \"Explains what is a republic.\"\n",
    "improved_prompt =  \"think like a philosopher. Explains what is a republic.\"\n",
    "llm.invoke(improved_prompt)"
   ]
  },
  {
   "cell_type": "markdown",
   "id": "e2877c34-de6b-4d7a-9e69-89092422c9e3",
   "metadata": {},
   "source": [
    "### Separating Data from Instructions\n",
    "\n",
    "Not able to provide an exercice : https://docs.google.com/spreadsheets/d/19jzLgRruG9kjUQNKtCg1ZjdD6l6weA6qRXG5zLIAhC8/edit#gid=1519813817"
   ]
  },
  {
   "cell_type": "markdown",
   "id": "52b6171a-0805-4cdd-90bf-85e91b09e9a6",
   "metadata": {},
   "source": [
    "### Formatting Output\n",
    "\n",
    "From: https://docs.google.com/spreadsheets/d/19jzLgRruG9kjUQNKtCg1ZjdD6l6weA6qRXG5zLIAhC8/edit#gid=257656347 \n",
    "\n",
    "An LLM can format its output in a wide variety of ways. You just need to ask for it to do so!"
   ]
  },
  {
   "cell_type": "markdown",
   "id": "5fc21042-4c73-4ce1-b797-d8fff0902b71",
   "metadata": {},
   "source": [
    "#### Exercises"
   ]
  },
  {
   "cell_type": "code",
   "execution_count": 19,
   "id": "85e3342e-2787-4f79-9103-9399b2ede8af",
   "metadata": {},
   "outputs": [
    {
     "data": {
      "text/plain": [
       "\" When considering the best basketball player of all time, several players emerge as candidates for this prestigious title. While everyone may have their personal opinions, here is an overview of some of the most frequently mentioned players in this debate:\\n\\nLeBron James: LeBron James has been touted as one of the greatest basketball players of all time. He is renowned for his exceptional athleticism, versatile playstyle, and outstanding leadership. Throughout his career, he has demonstrated remarkable capabilities in scoring, rebounding, and facilitating the offense. \\n\\nMichael Jordan: Michael Jordan holds a revered position in basketball history. His outstanding scoring ability, combined with his competitive drive and strategic mindset, led him to six NBA championships with the Chicago Bulls. His iconic status and groundbreaking plays have solidified his place among the game's immortals. \\n\\nKobe Bryant: Kobe Bryant was a standout player known for his relentless work ethic, Mamba Mentality, and ability to take over a game. Despite his relatively short stature, he made up for it with his skill, athleticism, and unwavering determination. He won five NBA championships and inspired a generation of basketball players. \\n\\nMagic Johnson: Magic Johnson's career was distinguished by his impressive playmaking, rebounding, and versatility on both ends of the court. As a\""
      ]
     },
     "execution_count": 19,
     "metadata": {},
     "output_type": "execute_result"
    }
   ],
   "source": [
    "\n",
    "# Forced to make a choice, Cohere designates Michael Jordan as the best basketball player of all time. Can we get Cohere to pick someone else?\n",
    "basic_prompt = \"Who is the best basketball player of all time?\"\n",
    "improved_prompt = \"Given the evolution of the game, including changes in athleticism, strategy, and global competition, who do you think deserves recognition as the best basketball player of all time, taking into account factors such as overall impact, versatility, leadership, and statistical performance?\"\n",
    "llm.invoke(improved_prompt)"
   ]
  },
  {
   "cell_type": "code",
   "execution_count": 22,
   "id": "1b0f4824-34ff-4225-a745-96eccaa12bca",
   "metadata": {},
   "outputs": [
    {
     "name": "stdout",
     "output_type": "stream",
     "text": [
      " | Era | Date | Event | Significance |\n",
      "|---|---|---|---|\n",
      "| Middle Ages | 481-1453 CE | The Merovingian and Carolingian dynasties rule. The Crusades, fostering cultural exchange, begin in 1096. | The High Middle Ages see economic growth, and the University of Paris Founded in 1150, it encourages learning. |\n",
      "| Renaissance | 1453-1643 CE | Exploration opens new seas and lands to trade. Printing pushes education forward. The Age of Reformation begins in 1517. | Art and culture experience a rebirth, and science advances. The French Renaissance begins in the 1520s, characterized by humanism and secularism. |\n",
      "| Revolution | 1643-1789 CE | The Enlightenment ushers in new ideas and reforms. The French Society of Jesuits fosters education, and the economy thrives on trade. | The French Revolution begins in 1789, inspired by the American Revolution and fermenting local discontent. Kings Louis XVI and Marie Antoinette are overthrown and executed in 1793. |\n",
      "| Napoleonic Era | 1789-1815 CE | Napoleon rises to power, revolutionize democracy, and establishes the Napoleonic Code. He conquers much of Europe, and France establishes a Continental System to control trade. | Napoleon defeats Austria and Russia\n"
     ]
    }
   ],
   "source": [
    "\n",
    "# Instead of receiving a basic output, you want to ouptut in a table format\n",
    "basic_prompt = \"Gives the main events of France.\"\n",
    "improved_prompt = \"Provide a tabular summary of the main events in French history, including key dates, events, and their significance.\"\n",
    "print(llm.invoke(improved_prompt))"
   ]
  },
  {
   "cell_type": "markdown",
   "id": "c0f8eb26-0277-4622-a858-cd3c292d82f7",
   "metadata": {},
   "source": [
    "### Thinking Step by Step \n",
    "\n",
    "From: https://docs.google.com/spreadsheets/d/19jzLgRruG9kjUQNKtCg1ZjdD6l6weA6qRXG5zLIAhC8/edit#gid=1213680236\n",
    "\n",
    " \t\n",
    "If someone woke you up and immediately started asking you several complicated questions that you had to respond to right away, how would you do? Probably not as good as if you were given time to think through your answer first. \n",
    "\n",
    "Guess what? An LLM is the same way.\n",
    "\n",
    "Giving Cohere time to think step by step sometimes makes Cohere more accurate, particularly for complex tasks."
   ]
  },
  {
   "cell_type": "markdown",
   "id": "c3938c76-4e49-44a6-b68d-24a387c833f2",
   "metadata": {},
   "source": [
    "#### Exercises"
   ]
  },
  {
   "cell_type": "code",
   "execution_count": 28,
   "id": "3f5eec2b-5016-426f-9f5a-1d377cddb284",
   "metadata": {},
   "outputs": [
    {
     "name": "stdout",
     "output_type": "stream",
     "text": [
      " Here are some steps to diagnose and attempt to fix an internet connectivity issue on a computer: \n",
      "\n",
      "1. Check the physical connections: Start by checking the physical connections to ensure the computer is properly connected to the internet source. Ensure the following:\n",
      "   - Ethernet cable is securely plugged into the computer's Ethernet port or the router/modem.\n",
      "   - For a wireless connection, make sure the Wi-Fi is enabled on the computer and it is connected to the correct network name (SSID). The computer should be within the Wi-Fi range to establish a stable connection. \n",
      "\n",
      "2. Restart network devices: Restarting the network devices (modem and router) can help resolve minor connectivity issues. Follow these steps:\n",
      "   - Turn off the modem and router (unplug them or use the power switch if available).\n",
      "   - Wait for about 30 seconds, and then turn on the modem first, followed by the router.\n",
      "   - Allow the devices to boot up completely (usually around 2 minutes) and then try connecting your computer to the internet again. \n",
      "\n",
      "3. Check the network status: You can check the network status on your computer to determine the specific issue. Here's how to perform this check on both Windows and macOS: \n",
      "\n",
      "Windows: \n",
      "\n",
      "---------\n",
      " Here is a step-by-step guide to diagnosing and fixing internet connectivity issues on a computer: \n",
      "\n",
      "1. Check the physical connections: Begin by ensuring that all the physical connections to your computer are properly set up. Check that your computer is correctly plugged into a working router or modem, and that the connection is stable and not physically damaged in any way. \n",
      "\n",
      "2. Verify network settings: Confirm that your computer's network settings reflect the correct WiFi network or Ethernet connection you are attempting to use. You can do this by accessing the network settings on your computer and ensuring that it matches the network credentials of your internet provider. \n",
      "\n",
      "3. Restart network devices: In cases where the issue persists, try restarting your network devices, including your computer, router, or modem. Fully powering them off and then turning them back on helps reset the connection. This helps resolve any temporary software glitches that might be causing the problem. \n",
      "\n",
      "4. Check the router's status: Ensure that the router is operational and connected to the internet by checking its LED indicators and logging in to the router's admin interface. If the router itself is not connected to the internet, you will need to troubleshoot your internet service provider (ISP). \n",
      "\n",
      "5. Run networking tools: Utilize networking tools\n"
     ]
    }
   ],
   "source": [
    "\n",
    "# Find something where you need to  use the \"Think step by step method\"\n",
    "basic_prompt = \"Diagnose and fix an internet connectivity issue on a computer.\"\n",
    "improved_prompt = \"Diagnose and fix an internet connectivity issue on a computer. Think step by step\"\n",
    "print(llm.invoke(basic_prompt))\n",
    "print('---------')\n",
    "print(llm.invoke(improved_prompt))"
   ]
  },
  {
   "cell_type": "markdown",
   "id": "0508c821-2a96-4fb0-a7eb-e2d39014851b",
   "metadata": {},
   "source": [
    "### Using Examples\n",
    "\n",
    "Check this sheet to understand the difference with \"Formatting output\": https://docs.google.com/spreadsheets/d/19jzLgRruG9kjUQNKtCg1ZjdD6l6weA6qRXG5zLIAhC8/edit#gid=1640903723\n"
   ]
  },
  {
   "cell_type": "markdown",
   "id": "68a6fdc2-e790-43e6-ac2f-30ef6a5ad22d",
   "metadata": {},
   "source": [
    "#### Exercises"
   ]
  },
  {
   "cell_type": "code",
   "execution_count": 32,
   "id": "0649f48b-f151-496c-9f3f-b456c9dca192",
   "metadata": {},
   "outputs": [
    {
     "data": {
      "text/plain": [
       "' Yes, despite consisting of odd numbers, the sum of these numbers is even. The sum of these numbers is 123, which is an odd number. \\n\\nTo prove this, you can use the concept of complementary pairs. Complementary pairs are numbers that have a sum of zero. For example, an odd number plus an even number will equal an odd number, and an even number plus an odd number will equal an even number. \\n\\nLook at the provided numbers again: 15, 32, 5, 13, 82, 7, and 1. The odd numbers in this series are 15, 5, 13, 7, and 1. These odd numbers add up to 41. \\n\\nNow, consider the even numbers in the series: 32 and 82. These even numbers add up to 114. \\n\\nThe sum of the entire series is 41 + 114 = 123. Therefore, it is true that the odd numbers in this group add up to an even number. '"
      ]
     },
     "execution_count": 32,
     "metadata": {},
     "output_type": "execute_result"
    }
   ],
   "source": [
    "\n",
    "# Find something where you need to  use the \"Using Examples\"\n",
    "# The goal is to understanding how it is powerful compared to \"Formatting output\"\n",
    "# When you exactly know what you want\n",
    "basic_prompt = '''The odd numbers in this group add up to an even number: 15, 32, 5, 13, 82, 7, 1 ?'''\n",
    "\n",
    "llm.invoke(basic_prompt)\n"
   ]
  },
  {
   "cell_type": "code",
   "execution_count": 33,
   "id": "1a4652da-77b5-48db-b3b1-85ce26ee8662",
   "metadata": {},
   "outputs": [
    {
     "name": "stderr",
     "output_type": "stream",
     "text": [
      "Your text contains a trailing whitespace, which has been trimmed to ensure high quality generations.\n"
     ]
    },
    {
     "data": {
      "text/plain": [
       "'The answer is True.'"
      ]
     },
     "execution_count": 33,
     "metadata": {},
     "output_type": "execute_result"
    }
   ],
   "source": [
    "improved_prompt = '''The odd numbers in this group add up to an even number: 4, 8, 9, 15, 12, 2, 1.\n",
    "A: The answer is False.\n",
    "The odd numbers in this group add up to an even number: 17,  10, 19, 4, 8, 12, 24.\n",
    "A: The answer is True.\n",
    "The odd numbers in this group add up to an even number: 16,  11, 14, 4, 8, 13, 24.\n",
    "A: The answer is True.\n",
    "The odd numbers in this group add up to an even number: 17,  9, 10, 12, 13, 4, 2.\n",
    "A: The answer is False.\n",
    "The odd numbers in this group add up to an even number: 15, 32, 5, 13, 82, 7, 1. \n",
    "A: '''\n",
    "llm.invoke(improved_prompt)"
   ]
  }
 ],
 "metadata": {
  "kernelspec": {
   "display_name": "Python 3 (ipykernel)",
   "language": "python",
   "name": "python3"
  },
  "language_info": {
   "codemirror_mode": {
    "name": "ipython",
    "version": 3
   },
   "file_extension": ".py",
   "mimetype": "text/x-python",
   "name": "python",
   "nbconvert_exporter": "python",
   "pygments_lexer": "ipython3",
   "version": "3.12.2"
  }
 },
 "nbformat": 4,
 "nbformat_minor": 5
}
